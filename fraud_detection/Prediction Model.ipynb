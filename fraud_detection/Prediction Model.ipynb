{
 "cells": [
  {
   "cell_type": "code",
   "execution_count": 18,
   "metadata": {},
   "outputs": [],
   "source": [
    "import pandas as pd\n",
    "import numpy as np\n",
    "from sklearn.model_selection import train_test_split\n",
    "from sklearn.tree import DecisionTreeClassifier\n",
    "from sklearn.ensemble import RandomForestClassifier, AdaBoostClassifier\n",
    "from sklearn.neighbors import KNeighborsClassifier\n",
    "from sklearn.model_selection import cross_val_score\n",
    "from sklearn.metrics import confusion_matrix\n",
    "import matplotlib.pyplot as plt\n",
    "import itertools"
   ]
  },
  {
   "cell_type": "markdown",
   "metadata": {},
   "source": [
    "## Load and prepare dataset"
   ]
  },
  {
   "cell_type": "code",
   "execution_count": 2,
   "metadata": {},
   "outputs": [],
   "source": [
    "data = pd.read_csv('PS_20174392719_1491204439457_log.csv')\n",
    "data = data[data['type'].isin(['CASH_OUT', 'TRANSFER'])]\n",
    "data = data.drop(['nameOrig','nameDest', 'isFlaggedFraud'], axis=1)\n",
    "data = data.replace({'type':{'CASH_OUT':0, 'TRANSFER':1}})"
   ]
  },
  {
   "cell_type": "code",
   "execution_count": 3,
   "metadata": {},
   "outputs": [],
   "source": [
    "X = data.drop(['isFraud'], axis=1)\n",
    "y = data['isFraud']\n",
    "del data"
   ]
  },
  {
   "cell_type": "markdown",
   "metadata": {},
   "source": [
    "## Build prediction models"
   ]
  },
  {
   "cell_type": "code",
   "execution_count": 4,
   "metadata": {},
   "outputs": [],
   "source": [
    "#prepare classifiers \n",
    "dt = DecisionTreeClassifier()\n",
    "ab = AdaBoostClassifier()\n",
    "knn = KNeighborsClassifier(1)\n",
    "rf = RandomForestClassifier()"
   ]
  },
  {
   "cell_type": "code",
   "execution_count": null,
   "metadata": {},
   "outputs": [
    {
     "name": "stdout",
     "output_type": "stream",
     "text": [
      "f1 scores of 5 cross validation: ['0.872', '0.869', '0.864', '0.865', '0.867']\n",
      "Random Forest mean f1: 0.867 with standard deviation: 0.003\n",
      "f1 scores of 5 cross validation: ['0.719', '0.708', '0.748', '0.737', '0.740']\n",
      "Ada Boost mean f1: 0.730 with standard deviation: 0.015\n"
     ]
    }
   ],
   "source": [
    "estimators = [rf, ab]\n",
    "names = ['Random Forest', 'Ada Boost']\n",
    "#split data into training and testing set\n",
    "X_train, X_test, y_train, y_test = train_test_split(X, y, test_size=0.2, random_state=123)\n",
    "\n",
    "#evaluate the performance of the prediction models\n",
    "for i,e in enumerate(estimators):\n",
    "    scores = cross_val_score(estimator=e, X=X_train, y=y_train, cv=5, scoring='f1')\n",
    "    print('f1 scores of 5 cross validation:',['%0.3f' %(s) for s in scores])\n",
    "    print(names[i] + \" mean f1: %0.3f with standard deviation: %0.3f\" %( scores.mean(),  scores.std()))"
   ]
  },
  {
   "cell_type": "code",
   "execution_count": 5,
   "metadata": {},
   "outputs": [
    {
     "name": "stdout",
     "output_type": "stream",
     "text": [
      "f1 scores of 5 cross validation: ['0.877', '0.869', '0.874', '0.871', '0.877']\n",
      "Decision Tree mean f1: 0.874 with standard deviation: 0.003\n",
      "f1 scores of 5 cross validation: ['0.778', '0.747', '0.775', '0.774', '0.770']\n",
      "kNN mean f1: 0.769 with standard deviation: 0.011\n"
     ]
    }
   ],
   "source": [
    "estimators = [dt, knn]\n",
    "names = ['Decision Tree', 'kNN']\n",
    "#split data into training and testing set\n",
    "X_train, X_test, y_train, y_test = train_test_split(X, y, test_size=0.2, random_state=123)\n",
    "\n",
    "#evaluate the performance of the prediction models\n",
    "for i,e in enumerate(estimators):\n",
    "    scores = cross_val_score(estimator=e, X=X_train, y=y_train, cv=5, scoring='f1')\n",
    "    print('f1 scores of 5 cross validation:',['%0.3f' %(s) for s in scores])\n",
    "    print(names[i] + \" mean f1: %0.3f with standard deviation: %0.3f\" %( scores.mean(),  scores.std()))"
   ]
  },
  {
   "cell_type": "markdown",
   "metadata": {},
   "source": [
    "#### Notes: "
   ]
  },
  {
   "cell_type": "markdown",
   "metadata": {},
   "source": [
    "From those four algorithms (note: default setting), Decision Tree model achieves the best performance. So, it will be used for predicting test samples that never used in training proces, even in the cross-validation screening."
   ]
  },
  {
   "cell_type": "markdown",
   "metadata": {},
   "source": [
    "### Prediction"
   ]
  },
  {
   "cell_type": "code",
   "execution_count": 7,
   "metadata": {},
   "outputs": [],
   "source": [
    "model = dt.fit(X_train, y_train)\n",
    "predicts = model.predict(X_test)\n"
   ]
  },
  {
   "cell_type": "markdown",
   "metadata": {},
   "source": [
    "### Confusion Matrix"
   ]
  },
  {
   "cell_type": "code",
   "execution_count": 22,
   "metadata": {},
   "outputs": [
    {
     "data": {
      "image/png": "[encoded data removed]",
      "text/plain": [
       "<matplotlib.figure.Figure at 0x7fe2f5d92ac8>"
      ]
     },
     "metadata": {},
     "output_type": "display_data"
    },
    {
     "data": {
      "image/png": "[encoded data removed]",
      "text/plain": [
       "<matplotlib.figure.Figure at 0x7fe2f75af2e8>"
      ]
     },
     "metadata": {},
     "output_type": "display_data"
    }
   ],
   "source": [
    "#to print this colourful confusion matrix, I use the function from sklearn documentation: \n",
    "#http://scikit-learn.org/stable/auto_examples/model_selection/plot_confusion_matrix.html#sphx-glr-auto-examples-model-selection-plot-confusion-matrix-py \n",
    "\n",
    "def plot_confusion_matrix(cm, classes,\n",
    "                          normalize=False,\n",
    "                          title='Confusion matrix',\n",
    "                          cmap=plt.cm.Blues):\n",
    "    \"\"\"\n",
    "    This function prints and plots the confusion matrix.\n",
    "    Normalization can be applied by setting `normalize=True`.\n",
    "    \"\"\"\n",
    "    if normalize:\n",
    "        cm = cm.astype('float') / cm.sum(axis=1)[:, np.newaxis]\n",
    "     \n",
    "    #print(cm)\n",
    "\n",
    "    plt.imshow(cm, interpolation='nearest', cmap=cmap)\n",
    "    plt.title(title)\n",
    "    plt.colorbar()\n",
    "    tick_marks = np.arange(len(classes))\n",
    "    plt.xticks(tick_marks, classes, rotation=45)\n",
    "    plt.yticks(tick_marks, classes)\n",
    "\n",
    "    fmt = '.2f' if normalize else 'd'\n",
    "    thresh = cm.max() / 2.\n",
    "    for i, j in itertools.product(range(cm.shape[0]), range(cm.shape[1])):\n",
    "        plt.text(j, i, format(cm[i, j], fmt),\n",
    "                 horizontalalignment=\"center\",\n",
    "                 color=\"white\" if cm[i, j] > thresh else \"black\")\n",
    "\n",
    "    plt.tight_layout()\n",
    "    plt.ylabel('True label')\n",
    "    plt.xlabel('Predicted label')\n",
    "\n",
    "# Compute confusion matrix\n",
    "cnf_matrix = confusion_matrix(y_test, predicts)\n",
    "np.set_printoptions(precision=2)\n",
    "\n",
    "class_names =[\"normal\",\"fraud\"]\n",
    "# Plot non-normalized confusion matrix\n",
    "plt.figure()\n",
    "plot_confusion_matrix(cnf_matrix, classes=class_names,\n",
    "                      title='Confusion matrix, without normalization')\n",
    "\n",
    "# Plot normalized confusion matrix\n",
    "plt.figure()\n",
    "plot_confusion_matrix(cnf_matrix, classes=class_names, normalize=True,\n",
    "                      title='Normalized confusion matrix')\n",
    "\n",
    "plt.show()"
   ]
  },
  {
   "cell_type": "markdown",
   "metadata": {},
   "source": [
    "#### Notes:"
   ]
  },
  {
   "cell_type": "markdown",
   "metadata": {},
   "source": [
    "1. Using this model, while almost all of the normal transaction can be predicted correctly, about 87% of fraud transactions are predicted correctly. This behaviour is caused by the number of normal transaction outnumber the sample of fraud transaction\n",
    "2. In order to improve the performance of the model in predicting fraud transaction, an advanced sampling method can be used or do specific treatment for imbalanced class in the algorithm. "
   ]
  }
 ],
 "metadata": {
  "kernelspec": {
   "display_name": "Python 3",
   "language": "python",
   "name": "python3"
  },
  "language_info": {
   "codemirror_mode": {
    "name": "ipython",
    "version": 3
   },
   "file_extension": ".py",
   "mimetype": "text/x-python",
   "name": "python",
   "nbconvert_exporter": "python",
   "pygments_lexer": "ipython3",
   "version": "3.6.3"
  }
 },
 "nbformat": 4,
 "nbformat_minor": 2
}
