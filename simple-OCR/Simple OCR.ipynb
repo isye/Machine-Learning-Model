{
 "cells": [
  {
   "cell_type": "code",
   "execution_count": 30,
   "metadata": {},
   "outputs": [],
   "source": [
    "import pandas as pd\n",
    "import numpy as np\n",
    "import matplotlib.pyplot as plt\n",
    "from sklearn.model_selection import train_test_split\n",
    "from sklearn.naive_bayes import BernoulliNB, MultinomialNB\n",
    "from sklearn.ensemble import RandomForestClassifier, GradientBoostingClassifier\n",
    "from sklearn.tree import DecisionTreeClassifier\n",
    "from sklearn.metrics import confusion_matrix,accuracy_score, classification_report, f1_score,roc_auc_score\n",
    "from sklearn.linear_model import LogisticRegression\n",
    "from sklearn.linear_model import SGDClassifier\n",
    "from sklearn.linear_model import Perceptron\n",
    "from sklearn.linear_model import PassiveAggressiveClassifier\n",
    "from sklearn.naive_bayes import BernoulliNB, MultinomialNB\n",
    "from sklearn.neighbors import KNeighborsClassifier\n",
    "from sklearn.neighbors import NearestCentroid\n",
    "from sklearn.linear_model import RidgeClassifier\n",
    "import keras\n",
    "from keras.models import Sequential\n",
    "from keras.layers import Dense, Dropout, Activation, Conv2D, MaxPooling2D, Flatten\n",
    "from keras.utils import to_categorical\n",
    "from keras.optimizers import Adadelta\n",
    "import pickle"
   ]
  },
  {
   "cell_type": "code",
   "execution_count": 28,
   "metadata": {},
   "outputs": [],
   "source": [
    "size = 28\n",
    "channel = 1\n",
    "\n",
    "def plot_image(data, size=28):\n",
    "    n = 10  \n",
    "    plt.figure(figsize=(20, 4))\n",
    "    for i in range(n):\n",
    "        ax = plt.subplot(2, n, i + 1)\n",
    "        plt.imshow(data[i].reshape(size, size))\n",
    "        plt.gray()\n",
    "        plt.axis('off')\n",
    "    plt.show()\n",
    "\n",
    "def benchmark_scikitlearn_classifiers(X_train, y_train, X_test, y_test):\n",
    "    \n",
    "    models = [RidgeClassifier(tol=1e-2, solver=\"lsqr\"),RandomForestClassifier(n_estimators=50),\n",
    "        PassiveAggressiveClassifier(n_iter=50), KNeighborsClassifier(n_neighbors=1), GradientBoostingClassifier()]\n",
    "    \n",
    "    models_name = ['Ridge Classifier', 'Random Forest', 'Passive Aggressive Classifier', 'k Nearest Neighbour', 'Gradient Boosting Classifier']\n",
    "    for i,model in enumerate(models):\n",
    "        model.fit(X_train, y_train)\n",
    "        predicted = model.predict(X_test)\n",
    "        print(models_name[i]+' accuracy:', accuracy_score(y_test, predicted))\n",
    "        print(classification_report(y_test, predicted)) \n",
    "        \n",
    "def dnn(X_train, y_train, X_test, y_test, num_classes):\n",
    "    y_train = to_categorical(y_train, num_classes)\n",
    "    y_test = to_categorical(y_test, num_classes)\n",
    "    \n",
    "    model = Sequential()\n",
    "    model.add(Dense(128, input_dim=X_train.shape[1], activation='relu'))\n",
    "    model.add(Dropout(0.25))\n",
    "    model.add(Dense(128, activation='relu'))\n",
    "    model.add(Dropout(0.5))\n",
    "    model.add(Dense(num_classes, activation='softmax'))\n",
    "    model.compile(optimizer=Adadelta(), loss='categorical_crossentropy',metrics=['accuracy'])\n",
    "    \n",
    "    model.fit(X_train, \n",
    "              y_train, \n",
    "              epochs=30, \n",
    "              batch_size=16,\n",
    "              validation_data=(X_test, y_test))\n",
    "    \n",
    "    score = model.evaluate(X_test, y_test)\n",
    "    print(score)\n",
    "    \n",
    "def cnn(X_train, y_train, X_test, y_test, num_classes):\n",
    "    y_train = to_categorical(y_train, num_classes)\n",
    "    y_test = to_categorical(y_test, num_classes)\n",
    "    X_train = X_train.reshape(X_train.shape[0], size, size, channel)\n",
    "    X_test = X_test.reshape(X_test.shape[0], size, size, channel)\n",
    "    print(X_train.shape, X_test.shape)\n",
    "    \n",
    "    model = Sequential()\n",
    "    model.add(Conv2D(32, (3, 3),activation='relu',input_shape=(size,size,channel)))\n",
    "    model.add(Conv2D(64, (3, 3),activation='relu'))\n",
    "    model.add(MaxPooling2D(pool_size=(2, 2)))\n",
    "    model.add(Dropout(0.25))\n",
    "    model.add(Flatten())\n",
    "    model.add(Dense(128, activation='relu'))\n",
    "    model.add(Dropout(0.5))\n",
    "    model.add(Dense(num_classes, activation='softmax'))\n",
    "\n",
    "    model.compile(loss='categorical_crossentropy',optimizer=Adadelta(),metrics=['accuracy'])\n",
    "\n",
    "    model.fit(X_train, y_train,\n",
    "              batch_size=32,\n",
    "              epochs=10,\n",
    "              verbose=1,\n",
    "              validation_data=(X_test, y_test))\n",
    "    score = model.evaluate(X_test, y_test, verbose=0)\n",
    "    print('Test loss:', score[0])\n",
    "    print('Test accuracy:', score[1])"
   ]
  },
  {
   "cell_type": "markdown",
   "metadata": {},
   "source": [
    "# MNIST Dataset"
   ]
  },
  {
   "cell_type": "markdown",
   "metadata": {},
   "source": [
    "The dataset is in .csv format. The dataset is downloaded from kaggle website: https://www.kaggle.com/c/digit-recognizer"
   ]
  },
  {
   "cell_type": "markdown",
   "metadata": {},
   "source": [
    "## Load dataset and visualize some samples"
   ]
  },
  {
   "cell_type": "code",
   "execution_count": 23,
   "metadata": {},
   "outputs": [
    {
     "data": {
      "image/png": "[encoded data removed]",
      "text/plain": [
       "<matplotlib.figure.Figure at 0x7fab64fddb00>"
      ]
     },
     "metadata": {},
     "output_type": "display_data"
    },
    {
     "name": "stdout",
     "output_type": "stream",
     "text": [
      "normalisasi\n"
     ]
    },
    {
     "data": {
      "image/png": "[encoded data removed]",
      "text/plain": [
       "<matplotlib.figure.Figure at 0x7fab556d7550>"
      ]
     },
     "metadata": {},
     "output_type": "display_data"
    }
   ],
   "source": [
    "#load mnist csv with pandas\n",
    "train = pd.read_csv('./MNIST-data/train.csv')\n",
    "labels = np.asarray(train.iloc[:,0])\n",
    "data = np.asarray(train.iloc[:,1:])\n",
    "x_train, x_val, y_train, y_val = train_test_split(data, labels)\n",
    "\n",
    "#visualize original samples \n",
    "plot_image(x_train[0:10])\n",
    "\n",
    "#visualize normalize samples\n",
    "print('normalized')\n",
    "x_train_norm = x_train.astype('float32') / 255.\n",
    "x_val_norm = x_val.astype('float32') / 255\n",
    "plot_image(x_train_norm[0:10])"
   ]
  },
  {
   "cell_type": "markdown",
   "metadata": {},
   "source": [
    "## Classification using several machine learning algorithms"
   ]
  },
  {
   "cell_type": "code",
   "execution_count": 28,
   "metadata": {},
   "outputs": [
    {
     "name": "stdout",
     "output_type": "stream",
     "text": [
      "Ridge Classifier accuracy: 0.8508571428571429\n",
      "             precision    recall  f1-score   support\n",
      "\n",
      "          0       0.89      0.96      0.92      1037\n",
      "          1       0.81      0.97      0.88      1162\n",
      "          2       0.91      0.78      0.84      1069\n",
      "          3       0.83      0.83      0.83      1105\n",
      "          4       0.82      0.88      0.85       977\n",
      "          5       0.83      0.71      0.77       917\n",
      "          6       0.89      0.93      0.91      1043\n",
      "          7       0.84      0.87      0.85      1057\n",
      "          8       0.85      0.76      0.80      1017\n",
      "          9       0.85      0.80      0.82      1116\n",
      "\n",
      "avg / total       0.85      0.85      0.85     10500\n",
      "\n",
      "Random Forest accuracy: 0.9631428571428572\n",
      "             precision    recall  f1-score   support\n",
      "\n",
      "          0       0.97      0.99      0.98      1037\n",
      "          1       0.99      0.99      0.99      1162\n",
      "          2       0.96      0.95      0.96      1069\n",
      "          3       0.96      0.94      0.95      1105\n",
      "          4       0.96      0.97      0.97       977\n",
      "          5       0.96      0.96      0.96       917\n",
      "          6       0.97      0.98      0.98      1043\n",
      "          7       0.96      0.96      0.96      1057\n",
      "          8       0.95      0.95      0.95      1017\n",
      "          9       0.95      0.95      0.95      1116\n",
      "\n",
      "avg / total       0.96      0.96      0.96     10500\n",
      "\n"
     ]
    },
    {
     "name": "stderr",
     "output_type": "stream",
     "text": [
      "/opt/conda/lib/python3.6/site-packages/sklearn/linear_model/stochastic_gradient.py:117: DeprecationWarning: n_iter parameter is deprecated in 0.19 and will be removed in 0.21. Use max_iter and tol instead.\n",
      "  DeprecationWarning)\n"
     ]
    },
    {
     "name": "stdout",
     "output_type": "stream",
     "text": [
      "Passive Aggressive Classifier accuracy: 0.8625714285714285\n",
      "             precision    recall  f1-score   support\n",
      "\n",
      "          0       0.96      0.93      0.95      1037\n",
      "          1       0.95      0.96      0.96      1162\n",
      "          2       0.81      0.88      0.84      1069\n",
      "          3       0.75      0.92      0.82      1105\n",
      "          4       0.77      0.95      0.85       977\n",
      "          5       0.86      0.73      0.79       917\n",
      "          6       0.96      0.89      0.93      1043\n",
      "          7       0.90      0.90      0.90      1057\n",
      "          8       0.80      0.80      0.80      1017\n",
      "          9       0.95      0.65      0.77      1116\n",
      "\n",
      "avg / total       0.87      0.86      0.86     10500\n",
      "\n",
      "k Nearest Neighbour accuracy: 0.9639047619047619\n",
      "             precision    recall  f1-score   support\n",
      "\n",
      "          0       0.98      0.99      0.98      1037\n",
      "          1       0.97      1.00      0.98      1162\n",
      "          2       0.98      0.96      0.97      1069\n",
      "          3       0.96      0.96      0.96      1105\n",
      "          4       0.97      0.96      0.96       977\n",
      "          5       0.95      0.96      0.95       917\n",
      "          6       0.97      0.98      0.97      1043\n",
      "          7       0.95      0.97      0.96      1057\n",
      "          8       0.97      0.92      0.94      1017\n",
      "          9       0.95      0.95      0.95      1116\n",
      "\n",
      "avg / total       0.96      0.96      0.96     10500\n",
      "\n",
      "Gradient Boosting Classifier accuracy: 0.9419047619047619\n",
      "             precision    recall  f1-score   support\n",
      "\n",
      "          0       0.97      0.98      0.97      1037\n",
      "          1       0.97      0.99      0.98      1162\n",
      "          2       0.95      0.94      0.94      1069\n",
      "          3       0.93      0.91      0.92      1105\n",
      "          4       0.93      0.95      0.94       977\n",
      "          5       0.92      0.92      0.92       917\n",
      "          6       0.96      0.95      0.96      1043\n",
      "          7       0.93      0.94      0.94      1057\n",
      "          8       0.93      0.92      0.93      1017\n",
      "          9       0.91      0.91      0.91      1116\n",
      "\n",
      "avg / total       0.94      0.94      0.94     10500\n",
      "\n",
      "Ridge Classifier accuracy: 0.8504761904761905\n",
      "             precision    recall  f1-score   support\n",
      "\n",
      "          0       0.90      0.96      0.93      1037\n",
      "          1       0.81      0.97      0.88      1162\n",
      "          2       0.91      0.78      0.84      1069\n",
      "          3       0.83      0.83      0.83      1105\n",
      "          4       0.82      0.88      0.85       977\n",
      "          5       0.83      0.71      0.77       917\n",
      "          6       0.89      0.93      0.91      1043\n",
      "          7       0.83      0.87      0.85      1057\n",
      "          8       0.85      0.76      0.80      1017\n",
      "          9       0.85      0.79      0.82      1116\n",
      "\n",
      "avg / total       0.85      0.85      0.85     10500\n",
      "\n",
      "Random Forest accuracy: 0.9620952380952381\n",
      "             precision    recall  f1-score   support\n",
      "\n",
      "          0       0.97      0.99      0.98      1037\n",
      "          1       0.98      0.99      0.98      1162\n",
      "          2       0.96      0.96      0.96      1069\n",
      "          3       0.95      0.94      0.95      1105\n",
      "          4       0.96      0.97      0.96       977\n",
      "          5       0.96      0.95      0.95       917\n",
      "          6       0.97      0.97      0.97      1043\n",
      "          7       0.96      0.96      0.96      1057\n",
      "          8       0.95      0.95      0.95      1017\n",
      "          9       0.95      0.95      0.95      1116\n",
      "\n",
      "avg / total       0.96      0.96      0.96     10500\n",
      "\n"
     ]
    },
    {
     "name": "stderr",
     "output_type": "stream",
     "text": [
      "/opt/conda/lib/python3.6/site-packages/sklearn/linear_model/stochastic_gradient.py:117: DeprecationWarning: n_iter parameter is deprecated in 0.19 and will be removed in 0.21. Use max_iter and tol instead.\n",
      "  DeprecationWarning)\n"
     ]
    },
    {
     "name": "stdout",
     "output_type": "stream",
     "text": [
      "Passive Aggressive Classifier accuracy: 0.8667619047619047\n",
      "             precision    recall  f1-score   support\n",
      "\n",
      "          0       0.94      0.96      0.95      1037\n",
      "          1       0.93      0.98      0.95      1162\n",
      "          2       0.92      0.81      0.86      1069\n",
      "          3       0.73      0.92      0.82      1105\n",
      "          4       0.86      0.91      0.88       977\n",
      "          5       0.88      0.67      0.76       917\n",
      "          6       0.93      0.95      0.94      1043\n",
      "          7       0.96      0.84      0.89      1057\n",
      "          8       0.70      0.87      0.78      1017\n",
      "          9       0.91      0.74      0.82      1116\n",
      "\n",
      "avg / total       0.88      0.87      0.87     10500\n",
      "\n",
      "k Nearest Neighbour accuracy: 0.9639047619047619\n",
      "             precision    recall  f1-score   support\n",
      "\n",
      "          0       0.98      0.99      0.98      1037\n",
      "          1       0.97      1.00      0.98      1162\n",
      "          2       0.98      0.96      0.97      1069\n",
      "          3       0.96      0.96      0.96      1105\n",
      "          4       0.97      0.96      0.96       977\n",
      "          5       0.95      0.96      0.95       917\n",
      "          6       0.97      0.98      0.97      1043\n",
      "          7       0.95      0.97      0.96      1057\n",
      "          8       0.97      0.92      0.94      1017\n",
      "          9       0.95      0.95      0.95      1116\n",
      "\n",
      "avg / total       0.96      0.96      0.96     10500\n",
      "\n",
      "Gradient Boosting Classifier accuracy: 0.9419047619047619\n",
      "             precision    recall  f1-score   support\n",
      "\n",
      "          0       0.97      0.98      0.97      1037\n",
      "          1       0.97      0.99      0.98      1162\n",
      "          2       0.95      0.94      0.94      1069\n",
      "          3       0.93      0.91      0.92      1105\n",
      "          4       0.93      0.95      0.94       977\n",
      "          5       0.92      0.92      0.92       917\n",
      "          6       0.96      0.95      0.96      1043\n",
      "          7       0.93      0.94      0.94      1057\n",
      "          8       0.93      0.92      0.93      1017\n",
      "          9       0.91      0.91      0.91      1116\n",
      "\n",
      "avg / total       0.94      0.94      0.94     10500\n",
      "\n"
     ]
    }
   ],
   "source": [
    "#1. using original dataset\n",
    "benchmark_scikitlearn_classifiers(x_train, y_train, x_val, y_val)\n",
    "#2. using normalized dataset\n",
    "benchmark_scikitlearn_classifiers(x_train_norm, y_train, x_val_norm, y_val)\n",
    "\n"
   ]
  },
  {
   "cell_type": "markdown",
   "metadata": {},
   "source": [
    "## Classification using Deep Learning approaches (MLP and CNN)"
   ]
  },
  {
   "cell_type": "code",
   "execution_count": 112,
   "metadata": {},
   "outputs": [
    {
     "name": "stdout",
     "output_type": "stream",
     "text": [
      "Train on 31500 samples, validate on 10500 samples\n",
      "Epoch 1/30\n",
      "31500/31500 [==============================] - 14s 430us/step - loss: 10.7638 - acc: 0.3159 - val_loss: 6.8102 - val_acc: 0.5660\n",
      "Epoch 2/30\n",
      "31500/31500 [==============================] - 13s 419us/step - loss: 7.2588 - acc: 0.5312 - val_loss: 3.8161 - val_acc: 0.7436\n",
      "Epoch 3/30\n",
      "31500/31500 [==============================] - 13s 416us/step - loss: 5.2692 - acc: 0.6509 - val_loss: 2.3978 - val_acc: 0.8385\n",
      "Epoch 4/30\n",
      "31500/31500 [==============================] - 13s 416us/step - loss: 4.0420 - acc: 0.7279 - val_loss: 2.0434 - val_acc: 0.8611\n",
      "Epoch 5/30\n",
      "31500/31500 [==============================] - 13s 416us/step - loss: 3.3586 - acc: 0.7720 - val_loss: 1.7386 - val_acc: 0.8811\n",
      "Epoch 6/30\n",
      "31500/31500 [==============================] - 13s 418us/step - loss: 3.0107 - acc: 0.7944 - val_loss: 1.6342 - val_acc: 0.8888\n",
      "Epoch 7/30\n",
      "31500/31500 [==============================] - 14s 432us/step - loss: 2.5943 - acc: 0.8221 - val_loss: 1.5304 - val_acc: 0.8951\n",
      "Epoch 8/30\n",
      "31500/31500 [==============================] - 14s 459us/step - loss: 2.3864 - acc: 0.8350 - val_loss: 1.4764 - val_acc: 0.8988\n",
      "Epoch 9/30\n",
      "31500/31500 [==============================] - 14s 440us/step - loss: 2.2377 - acc: 0.8437 - val_loss: 1.4231 - val_acc: 0.9021\n",
      "Epoch 10/30\n",
      "31500/31500 [==============================] - 14s 437us/step - loss: 2.0814 - acc: 0.8558 - val_loss: 1.2977 - val_acc: 0.9117\n",
      "Epoch 11/30\n",
      "31500/31500 [==============================] - 14s 432us/step - loss: 1.9778 - acc: 0.8634 - val_loss: 1.2598 - val_acc: 0.9137\n",
      "Epoch 12/30\n",
      "31500/31500 [==============================] - 13s 423us/step - loss: 1.8635 - acc: 0.8698 - val_loss: 1.2711 - val_acc: 0.9136\n",
      "Epoch 13/30\n",
      "31500/31500 [==============================] - 13s 427us/step - loss: 1.7838 - acc: 0.8752 - val_loss: 1.2550 - val_acc: 0.9142\n",
      "Epoch 14/30\n",
      "31500/31500 [==============================] - 14s 433us/step - loss: 1.7702 - acc: 0.8771 - val_loss: 1.1274 - val_acc: 0.9223\n",
      "Epoch 15/30\n",
      "31500/31500 [==============================] - 14s 440us/step - loss: 1.6570 - acc: 0.8830 - val_loss: 1.0939 - val_acc: 0.9243\n",
      "Epoch 16/30\n",
      "31500/31500 [==============================] - 14s 444us/step - loss: 1.6198 - acc: 0.8870 - val_loss: 1.0747 - val_acc: 0.9246\n",
      "Epoch 17/30\n",
      "31500/31500 [==============================] - 14s 450us/step - loss: 1.5485 - acc: 0.8906 - val_loss: 1.0144 - val_acc: 0.9303\n",
      "Epoch 18/30\n",
      "31500/31500 [==============================] - 14s 433us/step - loss: 1.5347 - acc: 0.8921 - val_loss: 1.0230 - val_acc: 0.9284\n",
      "Epoch 19/30\n",
      "31500/31500 [==============================] - 14s 436us/step - loss: 1.4763 - acc: 0.8954 - val_loss: 1.0221 - val_acc: 0.9290\n",
      "Epoch 20/30\n",
      "31500/31500 [==============================] - 13s 426us/step - loss: 1.4619 - acc: 0.8964 - val_loss: 0.9863 - val_acc: 0.9303\n",
      "Epoch 21/30\n",
      "31500/31500 [==============================] - 14s 452us/step - loss: 1.4106 - acc: 0.9001 - val_loss: 0.9556 - val_acc: 0.9322\n",
      "Epoch 22/30\n",
      "31500/31500 [==============================] - 14s 452us/step - loss: 1.3921 - acc: 0.8999 - val_loss: 0.9589 - val_acc: 0.9329\n",
      "Epoch 23/30\n",
      "31500/31500 [==============================] - 14s 450us/step - loss: 1.3530 - acc: 0.9029 - val_loss: 0.9566 - val_acc: 0.9318\n",
      "Epoch 24/30\n",
      "31500/31500 [==============================] - 15s 485us/step - loss: 1.2754 - acc: 0.9073 - val_loss: 0.9221 - val_acc: 0.9332\n",
      "Epoch 25/30\n",
      "31500/31500 [==============================] - 21s 674us/step - loss: 1.2334 - acc: 0.9101 - val_loss: 0.9231 - val_acc: 0.9340\n",
      "Epoch 26/30\n",
      "31500/31500 [==============================] - 22s 683us/step - loss: 1.2373 - acc: 0.9103 - val_loss: 0.9220 - val_acc: 0.9346\n",
      "Epoch 27/30\n",
      "31500/31500 [==============================] - 20s 649us/step - loss: 1.2058 - acc: 0.9131 - val_loss: 0.8655 - val_acc: 0.9393\n",
      "Epoch 28/30\n",
      "31500/31500 [==============================] - 15s 472us/step - loss: 1.1876 - acc: 0.9127 - val_loss: 0.8620 - val_acc: 0.9385\n",
      "Epoch 29/30\n",
      "31500/31500 [==============================] - 15s 462us/step - loss: 1.1297 - acc: 0.9158 - val_loss: 0.8439 - val_acc: 0.9383\n",
      "Epoch 30/30\n",
      "31500/31500 [==============================] - 15s 462us/step - loss: 1.1094 - acc: 0.9172 - val_loss: 0.8205 - val_acc: 0.9402\n",
      "10500/10500 [==============================] - 1s 81us/step\n",
      "[0.8205195146739916, 0.9401904761904762]\n"
     ]
    }
   ],
   "source": [
    "dnn(x_train, y_train, x_val, y_val, 10)"
   ]
  },
  {
   "cell_type": "code",
   "execution_count": 103,
   "metadata": {},
   "outputs": [
    {
     "name": "stdout",
     "output_type": "stream",
     "text": [
      "(31500, 28, 28, 1) (10500, 28, 28, 1)\n",
      "Train on 31500 samples, validate on 10500 samples\n",
      "Epoch 1/10\n",
      "31500/31500 [==============================] - 145s 5ms/step - loss: 1.1918 - acc: 0.8147 - val_loss: 0.1032 - val_acc: 0.9692\n",
      "Epoch 2/10\n",
      "31500/31500 [==============================] - 143s 5ms/step - loss: 0.1755 - acc: 0.9497 - val_loss: 0.0793 - val_acc: 0.9788\n",
      "Epoch 3/10\n",
      "31500/31500 [==============================] - 143s 5ms/step - loss: 0.1117 - acc: 0.9678 - val_loss: 0.0657 - val_acc: 0.9821\n",
      "Epoch 4/10\n",
      "31500/31500 [==============================] - 136s 4ms/step - loss: 0.0901 - acc: 0.9733 - val_loss: 0.0643 - val_acc: 0.9837\n",
      "Epoch 5/10\n",
      "31500/31500 [==============================] - 133s 4ms/step - loss: 0.0772 - acc: 0.9784 - val_loss: 0.0528 - val_acc: 0.9858\n",
      "Epoch 6/10\n",
      "31500/31500 [==============================] - 137s 4ms/step - loss: 0.0625 - acc: 0.9813 - val_loss: 0.0559 - val_acc: 0.9864\n",
      "Epoch 7/10\n",
      "31500/31500 [==============================] - 153s 5ms/step - loss: 0.0615 - acc: 0.9829 - val_loss: 0.0469 - val_acc: 0.9868\n",
      "Epoch 8/10\n",
      "31500/31500 [==============================] - 156s 5ms/step - loss: 0.0608 - acc: 0.9835 - val_loss: 0.0566 - val_acc: 0.9863\n",
      "Epoch 9/10\n",
      "31500/31500 [==============================] - 149s 5ms/step - loss: 0.0565 - acc: 0.9832 - val_loss: 0.0527 - val_acc: 0.9869\n",
      "Epoch 10/10\n",
      "31500/31500 [==============================] - 152s 5ms/step - loss: 0.0547 - acc: 0.9851 - val_loss: 0.0494 - val_acc: 0.9870\n",
      "Test loss: 0.04940469417515643\n",
      "Test accuracy: 0.9870476190476191\n"
     ]
    }
   ],
   "source": [
    "cnn(x_train, y_train, x_val, y_val, 10)"
   ]
  },
  {
   "cell_type": "markdown",
   "metadata": {},
   "source": [
    "## Notes on MNIST Dataset"
   ]
  },
  {
   "cell_type": "markdown",
   "metadata": {},
   "source": [
    "When several machine learning methods are benchmarking, Random Forest and k-Nearest Neighbour achieve the highest accuracy (96%) compare to other methods. And when original vs normalized-data are compared, their performance are similar.\n",
    "\n",
    "When using deep learning approaches, Convolutional Neural Network achieves the best accuracy, about 98%. In CNN I used only 10 epochs, so there is possibility that accuracy will improe when epoch is increased."
   ]
  },
  {
   "cell_type": "markdown",
   "metadata": {},
   "source": [
    "# not-MNIST Dataset"
   ]
  },
  {
   "cell_type": "markdown",
   "metadata": {},
   "source": [
    "The not-MNIST dataset is downloaded from https://www.kaggle.com/lubaroli/notmnist/data. The dataset consist of several images of character A, B, C, D, E, F, G, H, I and J. The images in '.png' format. In this model example, the images is already read into array data.  "
   ]
  },
  {
   "cell_type": "code",
   "execution_count": 11,
   "metadata": {},
   "outputs": [],
   "source": [
    "#load small not-mnist dataset\n",
    "train = pickle.load(open('notMNIST_small.npy','rb'))\n",
    "labels = train.get('label')\n",
    "data = train.get('data')\n"
   ]
  },
  {
   "cell_type": "code",
   "execution_count": 17,
   "metadata": {},
   "outputs": [
    {
     "name": "stdout",
     "output_type": "stream",
     "text": [
      "(18724, 784)\n",
      "<class 'dict'> <class 'numpy.ndarray'> <class 'numpy.ndarray'>\n",
      "18724 18724\n"
     ]
    }
   ],
   "source": [
    "data = np.asarray(data)\n",
    "data = data.reshape(data.shape[0],784)\n",
    "labels = np.asarray(labels)\n",
    "labels = labels.reshape(labels.shape[0],)\n"
   ]
  },
  {
   "cell_type": "code",
   "execution_count": 20,
   "metadata": {},
   "outputs": [
    {
     "data": {
      "image/png": "[encoded data removed]",
      "text/plain": [
       "<matplotlib.figure.Figure at 0x7fc0b8f3a9b0>"
      ]
     },
     "metadata": {},
     "output_type": "display_data"
    },
    {
     "name": "stdout",
     "output_type": "stream",
     "text": [
      "normalized\n"
     ]
    },
    {
     "data": {
      "image/png": "[encoded data removed]",
      "text/plain": [
       "<matplotlib.figure.Figure at 0x7fc0b94594a8>"
      ]
     },
     "metadata": {},
     "output_type": "display_data"
    }
   ],
   "source": [
    "x_train, x_val, y_train, y_val = train_test_split(data, labels)\n",
    "\n",
    "#samples visualization \n",
    "plot_image(x_train[0:10])\n",
    "\n",
    "#normalized sample visualization\n",
    "print('normalized')\n",
    "x_train_norm = x_train.astype('float32') / 255.\n",
    "x_val_norm = x_val.astype('float32') / 255\n",
    "plot_image(x_train_norm[0:10])\n"
   ]
  },
  {
   "cell_type": "markdown",
   "metadata": {},
   "source": [
    "## Classification using ensemble, linear and neighbors methods"
   ]
  },
  {
   "cell_type": "code",
   "execution_count": 32,
   "metadata": {},
   "outputs": [
    {
     "name": "stdout",
     "output_type": "stream",
     "text": [
      "Ridge Classifier accuracy: 0.8583635975218971\n",
      "             precision    recall  f1-score   support\n",
      "\n",
      "          0       0.89      0.88      0.89       461\n",
      "          1       0.91      0.85      0.88       462\n",
      "          2       0.83      0.91      0.87       473\n",
      "          3       0.90      0.90      0.90       462\n",
      "          4       0.91      0.77      0.84       469\n",
      "          5       0.80      0.89      0.85       463\n",
      "          6       0.88      0.85      0.87       464\n",
      "          7       0.89      0.84      0.86       483\n",
      "          8       0.75      0.85      0.80       432\n",
      "          9       0.84      0.85      0.84       512\n",
      "\n",
      "avg / total       0.86      0.86      0.86      4681\n",
      "\n",
      "Random Forest accuracy: 0.9181798760948515\n",
      "             precision    recall  f1-score   support\n",
      "\n",
      "          0       0.90      0.95      0.93       461\n",
      "          1       0.89      0.90      0.89       462\n",
      "          2       0.95      0.94      0.95       473\n",
      "          3       0.92      0.92      0.92       462\n",
      "          4       0.89      0.91      0.90       469\n",
      "          5       0.90      0.92      0.91       463\n",
      "          6       0.89      0.92      0.91       464\n",
      "          7       0.96      0.88      0.92       483\n",
      "          8       0.92      0.90      0.91       432\n",
      "          9       0.95      0.94      0.95       512\n",
      "\n",
      "avg / total       0.92      0.92      0.92      4681\n",
      "\n"
     ]
    },
    {
     "name": "stderr",
     "output_type": "stream",
     "text": [
      "/opt/conda/lib/python3.6/site-packages/sklearn/linear_model/stochastic_gradient.py:117: DeprecationWarning: n_iter parameter is deprecated in 0.19 and will be removed in 0.21. Use max_iter and tol instead.\n",
      "  DeprecationWarning)\n"
     ]
    },
    {
     "name": "stdout",
     "output_type": "stream",
     "text": [
      "Passive Aggressive Classifier accuracy: 0.8406323435163426\n",
      "             precision    recall  f1-score   support\n",
      "\n",
      "          0       0.91      0.88      0.90       461\n",
      "          1       0.86      0.83      0.85       462\n",
      "          2       0.89      0.89      0.89       473\n",
      "          3       0.94      0.85      0.89       462\n",
      "          4       0.82      0.78      0.80       469\n",
      "          5       0.75      0.89      0.82       463\n",
      "          6       0.93      0.82      0.87       464\n",
      "          7       0.92      0.82      0.87       483\n",
      "          8       0.59      0.88      0.71       432\n",
      "          9       0.92      0.77      0.84       512\n",
      "\n",
      "avg / total       0.86      0.84      0.84      4681\n",
      "\n",
      "k Nearest Neighbour accuracy: 0.8641315958128605\n",
      "             precision    recall  f1-score   support\n",
      "\n",
      "          0       0.93      0.91      0.92       461\n",
      "          1       0.85      0.84      0.84       462\n",
      "          2       0.83      0.90      0.87       473\n",
      "          3       0.83      0.88      0.85       462\n",
      "          4       0.78      0.75      0.76       469\n",
      "          5       0.82      0.86      0.84       463\n",
      "          6       0.87      0.81      0.84       464\n",
      "          7       0.96      0.87      0.91       483\n",
      "          8       0.86      0.91      0.88       432\n",
      "          9       0.90      0.91      0.91       512\n",
      "\n",
      "avg / total       0.87      0.86      0.86      4681\n",
      "\n",
      "Gradient Boosting Classifier accuracy: 0.9147618030335398\n",
      "             precision    recall  f1-score   support\n",
      "\n",
      "          0       0.93      0.94      0.93       461\n",
      "          1       0.91      0.90      0.90       462\n",
      "          2       0.96      0.94      0.95       473\n",
      "          3       0.91      0.91      0.91       462\n",
      "          4       0.90      0.90      0.90       469\n",
      "          5       0.91      0.93      0.92       463\n",
      "          6       0.89      0.93      0.91       464\n",
      "          7       0.93      0.90      0.91       483\n",
      "          8       0.87      0.88      0.88       432\n",
      "          9       0.94      0.92      0.93       512\n",
      "\n",
      "avg / total       0.92      0.91      0.91      4681\n",
      "\n",
      "Ridge Classifier accuracy: 0.858790856654561\n",
      "             precision    recall  f1-score   support\n",
      "\n",
      "          0       0.89      0.88      0.89       461\n",
      "          1       0.91      0.85      0.88       462\n",
      "          2       0.83      0.91      0.87       473\n",
      "          3       0.89      0.90      0.90       462\n",
      "          4       0.91      0.77      0.83       469\n",
      "          5       0.80      0.89      0.84       463\n",
      "          6       0.88      0.85      0.87       464\n",
      "          7       0.88      0.84      0.86       483\n",
      "          8       0.76      0.86      0.81       432\n",
      "          9       0.85      0.85      0.85       512\n",
      "\n",
      "avg / total       0.86      0.86      0.86      4681\n",
      "\n",
      "Random Forest accuracy: 0.9158299508651997\n",
      "             precision    recall  f1-score   support\n",
      "\n",
      "          0       0.92      0.95      0.94       461\n",
      "          1       0.89      0.90      0.89       462\n",
      "          2       0.93      0.93      0.93       473\n",
      "          3       0.91      0.91      0.91       462\n",
      "          4       0.88      0.90      0.89       469\n",
      "          5       0.91      0.93      0.92       463\n",
      "          6       0.88      0.91      0.89       464\n",
      "          7       0.97      0.88      0.92       483\n",
      "          8       0.94      0.90      0.92       432\n",
      "          9       0.94      0.95      0.94       512\n",
      "\n",
      "avg / total       0.92      0.92      0.92      4681\n",
      "\n"
     ]
    },
    {
     "name": "stderr",
     "output_type": "stream",
     "text": [
      "/opt/conda/lib/python3.6/site-packages/sklearn/linear_model/stochastic_gradient.py:117: DeprecationWarning: n_iter parameter is deprecated in 0.19 and will be removed in 0.21. Use max_iter and tol instead.\n",
      "  DeprecationWarning)\n"
     ]
    },
    {
     "name": "stdout",
     "output_type": "stream",
     "text": [
      "Passive Aggressive Classifier accuracy: 0.847468489638966\n",
      "             precision    recall  f1-score   support\n",
      "\n",
      "          0       0.87      0.87      0.87       461\n",
      "          1       0.93      0.76      0.84       462\n",
      "          2       0.90      0.89      0.90       473\n",
      "          3       0.92      0.87      0.89       462\n",
      "          4       0.86      0.76      0.81       469\n",
      "          5       0.76      0.91      0.83       463\n",
      "          6       0.88      0.83      0.86       464\n",
      "          7       0.87      0.83      0.85       483\n",
      "          8       0.70      0.85      0.77       432\n",
      "          9       0.85      0.89      0.87       512\n",
      "\n",
      "avg / total       0.85      0.85      0.85      4681\n",
      "\n",
      "k Nearest Neighbour accuracy: 0.8641315958128605\n",
      "             precision    recall  f1-score   support\n",
      "\n",
      "          0       0.93      0.91      0.92       461\n",
      "          1       0.85      0.84      0.84       462\n",
      "          2       0.83      0.90      0.87       473\n",
      "          3       0.83      0.88      0.85       462\n",
      "          4       0.78      0.75      0.76       469\n",
      "          5       0.82      0.86      0.84       463\n",
      "          6       0.87      0.81      0.84       464\n",
      "          7       0.96      0.87      0.91       483\n",
      "          8       0.86      0.91      0.88       432\n",
      "          9       0.90      0.91      0.91       512\n",
      "\n",
      "avg / total       0.87      0.86      0.86      4681\n",
      "\n",
      "Gradient Boosting Classifier accuracy: 0.9147618030335398\n",
      "             precision    recall  f1-score   support\n",
      "\n",
      "          0       0.93      0.94      0.93       461\n",
      "          1       0.91      0.90      0.90       462\n",
      "          2       0.96      0.94      0.95       473\n",
      "          3       0.91      0.91      0.91       462\n",
      "          4       0.90      0.90      0.90       469\n",
      "          5       0.91      0.93      0.92       463\n",
      "          6       0.89      0.93      0.91       464\n",
      "          7       0.93      0.90      0.91       483\n",
      "          8       0.87      0.88      0.88       432\n",
      "          9       0.94      0.92      0.93       512\n",
      "\n",
      "avg / total       0.92      0.91      0.91      4681\n",
      "\n"
     ]
    }
   ],
   "source": [
    "#1. using original data\n",
    "benchmark_scikitlearn_classifiers(x_train, y_train, x_val, y_val)\n",
    "#2. using normalized data\n",
    "benchmark_scikitlearn_classifiers(x_train_norm, y_train, x_val_norm, y_val)"
   ]
  },
  {
   "cell_type": "markdown",
   "metadata": {},
   "source": [
    "## Classification using deep neural network and convolution neural network "
   ]
  },
  {
   "cell_type": "code",
   "execution_count": 21,
   "metadata": {},
   "outputs": [
    {
     "name": "stdout",
     "output_type": "stream",
     "text": [
      "Train on 14043 samples, validate on 4681 samples\n",
      "Epoch 1/30\n",
      "14043/14043 [==============================] - 7s 481us/step - loss: 13.5736 - acc: 0.1521 - val_loss: 11.4973 - val_acc: 0.2811\n",
      "Epoch 2/30\n",
      "14043/14043 [==============================] - 6s 451us/step - loss: 12.3583 - acc: 0.2274 - val_loss: 10.6448 - val_acc: 0.3360\n",
      "Epoch 3/30\n",
      "14043/14043 [==============================] - 7s 464us/step - loss: 11.8652 - acc: 0.2596 - val_loss: 10.6446 - val_acc: 0.3358\n",
      "Epoch 4/30\n",
      "14043/14043 [==============================] - 8s 557us/step - loss: 11.2761 - acc: 0.2951 - val_loss: 9.6632 - val_acc: 0.3967\n",
      "Epoch 5/30\n",
      "14043/14043 [==============================] - 7s 483us/step - loss: 10.6428 - acc: 0.3342 - val_loss: 9.3079 - val_acc: 0.4213\n",
      "Epoch 6/30\n",
      "14043/14043 [==============================] - 7s 474us/step - loss: 10.0215 - acc: 0.3717 - val_loss: 8.2974 - val_acc: 0.4819\n",
      "Epoch 7/30\n",
      "14043/14043 [==============================] - 7s 487us/step - loss: 9.3353 - acc: 0.4150 - val_loss: 7.8734 - val_acc: 0.5082\n",
      "Epoch 8/30\n",
      "14043/14043 [==============================] - 7s 477us/step - loss: 8.7759 - acc: 0.4475 - val_loss: 7.0320 - val_acc: 0.5582\n",
      "Epoch 9/30\n",
      "14043/14043 [==============================] - 7s 532us/step - loss: 8.3656 - acc: 0.4740 - val_loss: 7.0559 - val_acc: 0.5578\n",
      "Epoch 10/30\n",
      "14043/14043 [==============================] - 8s 587us/step - loss: 7.8891 - acc: 0.5019 - val_loss: 6.1344 - val_acc: 0.6063\n",
      "Epoch 11/30\n",
      "14043/14043 [==============================] - 10s 687us/step - loss: 7.3013 - acc: 0.5381 - val_loss: 4.3108 - val_acc: 0.7270\n",
      "Epoch 12/30\n",
      "14043/14043 [==============================] - 8s 597us/step - loss: 6.4519 - acc: 0.5916 - val_loss: 3.9980 - val_acc: 0.7468\n",
      "Epoch 13/30\n",
      "14043/14043 [==============================] - 7s 491us/step - loss: 5.7456 - acc: 0.6349 - val_loss: 3.8583 - val_acc: 0.7558\n",
      "Epoch 14/30\n",
      "14043/14043 [==============================] - 8s 535us/step - loss: 5.4618 - acc: 0.6525 - val_loss: 3.5731 - val_acc: 0.7733\n",
      "Epoch 15/30\n",
      "14043/14043 [==============================] - 7s 468us/step - loss: 5.2419 - acc: 0.6667 - val_loss: 3.6855 - val_acc: 0.7676\n",
      "Epoch 16/30\n",
      "14043/14043 [==============================] - 7s 528us/step - loss: 4.9595 - acc: 0.6850 - val_loss: 3.6829 - val_acc: 0.7667\n",
      "Epoch 17/30\n",
      "14043/14043 [==============================] - 8s 555us/step - loss: 4.7691 - acc: 0.6973 - val_loss: 3.5251 - val_acc: 0.7776\n",
      "Epoch 18/30\n",
      "14043/14043 [==============================] - 7s 465us/step - loss: 4.7048 - acc: 0.7014 - val_loss: 3.6443 - val_acc: 0.7697\n",
      "Epoch 19/30\n",
      "14043/14043 [==============================] - 7s 493us/step - loss: 4.5815 - acc: 0.7095 - val_loss: 3.4935 - val_acc: 0.7791\n",
      "Epoch 20/30\n",
      "14043/14043 [==============================] - 7s 509us/step - loss: 4.4554 - acc: 0.7169 - val_loss: 3.5098 - val_acc: 0.7795\n",
      "Epoch 21/30\n",
      "14043/14043 [==============================] - 7s 495us/step - loss: 4.4233 - acc: 0.7198 - val_loss: 3.5107 - val_acc: 0.7785\n",
      "Epoch 22/30\n",
      "14043/14043 [==============================] - 7s 526us/step - loss: 4.3390 - acc: 0.7249 - val_loss: 3.5413 - val_acc: 0.7780\n",
      "Epoch 23/30\n",
      "14043/14043 [==============================] - 7s 476us/step - loss: 4.1757 - acc: 0.7356 - val_loss: 3.4996 - val_acc: 0.7804\n",
      "Epoch 24/30\n",
      "14043/14043 [==============================] - 7s 498us/step - loss: 4.1656 - acc: 0.7367 - val_loss: 3.4354 - val_acc: 0.7842\n",
      "Epoch 25/30\n",
      "14043/14043 [==============================] - 8s 568us/step - loss: 4.2001 - acc: 0.7348 - val_loss: 3.4954 - val_acc: 0.7800\n",
      "Epoch 26/30\n",
      "14043/14043 [==============================] - 7s 484us/step - loss: 4.1022 - acc: 0.7394 - val_loss: 3.4290 - val_acc: 0.7838\n",
      "Epoch 27/30\n",
      "14043/14043 [==============================] - 8s 603us/step - loss: 3.9822 - acc: 0.7472 - val_loss: 3.3931 - val_acc: 0.7866\n",
      "Epoch 28/30\n",
      "14043/14043 [==============================] - 7s 508us/step - loss: 4.0703 - acc: 0.7428 - val_loss: 3.3690 - val_acc: 0.7872\n",
      "Epoch 29/30\n",
      "14043/14043 [==============================] - 7s 513us/step - loss: 3.9214 - acc: 0.7513 - val_loss: 3.3401 - val_acc: 0.7900\n",
      "Epoch 30/30\n",
      "14043/14043 [==============================] - 8s 552us/step - loss: 3.9410 - acc: 0.7509 - val_loss: 3.4148 - val_acc: 0.7857\n",
      "4681/4681 [==============================] - 0s 94us/step\n",
      "[3.414792098186129, 0.7857295449817571]\n"
     ]
    }
   ],
   "source": [
    "dnn(x_train, y_train, x_val, y_val, 10)"
   ]
  },
  {
   "cell_type": "code",
   "execution_count": 31,
   "metadata": {},
   "outputs": [
    {
     "name": "stdout",
     "output_type": "stream",
     "text": [
      "(14043, 28, 28, 1) (4681, 28, 28, 1)\n",
      "Train on 14043 samples, validate on 4681 samples\n",
      "Epoch 1/10\n",
      "14043/14043 [==============================] - 86s 6ms/step - loss: 4.2658 - acc: 0.5883 - val_loss: 0.4164 - val_acc: 0.8808\n",
      "Epoch 2/10\n",
      "14043/14043 [==============================] - 86s 6ms/step - loss: 0.5599 - acc: 0.8415 - val_loss: 0.3159 - val_acc: 0.9062\n",
      "Epoch 3/10\n",
      "14043/14043 [==============================] - 79s 6ms/step - loss: 0.4314 - acc: 0.8762 - val_loss: 0.2884 - val_acc: 0.9150\n",
      "Epoch 4/10\n",
      "14043/14043 [==============================] - 83s 6ms/step - loss: 0.3512 - acc: 0.8984 - val_loss: 0.2544 - val_acc: 0.9276\n",
      "Epoch 5/10\n",
      "14043/14043 [==============================] - 78s 6ms/step - loss: 0.3095 - acc: 0.9086 - val_loss: 0.2446 - val_acc: 0.9312\n",
      "Epoch 6/10\n",
      "14043/14043 [==============================] - 81s 6ms/step - loss: 0.2830 - acc: 0.9183 - val_loss: 0.2319 - val_acc: 0.9351\n",
      "Epoch 7/10\n",
      "14043/14043 [==============================] - 119s 8ms/step - loss: 0.2523 - acc: 0.9244 - val_loss: 0.2541 - val_acc: 0.9301\n",
      "Epoch 8/10\n",
      "14043/14043 [==============================] - 91s 7ms/step - loss: 0.2409 - acc: 0.9291 - val_loss: 0.2282 - val_acc: 0.9342\n",
      "Epoch 9/10\n",
      "14043/14043 [==============================] - 90s 6ms/step - loss: 0.2213 - acc: 0.9331 - val_loss: 0.2250 - val_acc: 0.9368\n",
      "Epoch 10/10\n",
      "14043/14043 [==============================] - 82s 6ms/step - loss: 0.2072 - acc: 0.9396 - val_loss: 0.2163 - val_acc: 0.9383\n",
      "Test loss: 0.216345811394437\n",
      "Test accuracy: 0.938261055342791\n"
     ]
    }
   ],
   "source": [
    "cnn(x_train, y_train, x_val, y_val, 10)"
   ]
  },
  {
   "cell_type": "markdown",
   "metadata": {},
   "source": [
    "## Notes on not-MNIST Dataset"
   ]
  },
  {
   "cell_type": "markdown",
   "metadata": {},
   "source": [
    "The not-MNIST dataset seems more complex compare to MNIST dataset. When using machine learning approaches, the best accuracy is about 92% that is achieved by Random Forest and Gradient Boosting Classifier.\n",
    "When using deep learning approaches, the CNN can achieve accuracy around 94%"
   ]
  }
 ],
 "metadata": {
  "kernelspec": {
   "display_name": "Python 3",
   "language": "python",
   "name": "python3"
  },
  "language_info": {
   "codemirror_mode": {
    "name": "ipython",
    "version": 3
   },
   "file_extension": ".py",
   "mimetype": "text/x-python",
   "name": "python",
   "nbconvert_exporter": "python",
   "pygments_lexer": "ipython3",
   "version": "3.6.3"
  }
 },
 "nbformat": 4,
 "nbformat_minor": 2
}
