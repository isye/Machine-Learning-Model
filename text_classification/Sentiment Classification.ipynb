{
 "cells": [
  {
   "cell_type": "code",
   "execution_count": 201,
   "metadata": {},
   "outputs": [],
   "source": [
    "import numpy as np\n",
    "import pandas as pd\n",
    "import os\n",
    "import re\n",
    "from sklearn.model_selection import train_test_split\n",
    "from sklearn.feature_extraction.text import TfidfVectorizer, HashingVectorizer\n",
    "from sklearn.feature_selection import SelectKBest, chi2\n",
    "from sklearn.naive_bayes import BernoulliNB, MultinomialNB\n",
    "from sklearn.ensemble import RandomForestClassifier, GradientBoostingClassifier\n",
    "from sklearn.tree import DecisionTreeClassifier\n",
    "from sklearn.metrics import confusion_matrix,accuracy_score, classification_report, f1_score,roc_auc_score\n",
    "from sklearn.linear_model import LogisticRegression\n",
    "from sklearn.linear_model import SGDClassifier\n",
    "from sklearn.linear_model import Perceptron\n",
    "from sklearn.linear_model import PassiveAggressiveClassifier\n",
    "from sklearn.naive_bayes import BernoulliNB, MultinomialNB\n",
    "from sklearn.neighbors import KNeighborsClassifier\n",
    "from sklearn.neighbors import NearestCentroid\n",
    "from sklearn.linear_model import RidgeClassifier\n",
    "import matplotlib.pyplot as plt\n",
    "import itertools\n",
    "import matplotlib.image as mpimg\n",
    "import keras\n",
    "from keras.models import Sequential\n",
    "from keras.layers import Dense, Dropout, Activation\n"
   ]
  },
  {
   "cell_type": "markdown",
   "metadata": {},
   "source": [
    "In this modelling, the data is downloaded from https://archive.ics.uci.edu/ml/datasets/Sentiment+Labelled+Sentences# And review of cell phone form amazon is chosen in this modelling. The purposes of this modelling are:\n",
    "1. Exploring features and algorithms that superior in discriminating negative and positive review\n",
    "2. Understanding what words that represent negative or positive review. This understanding can provide insight about the cell phone features that make customer satisfied or disappointed.  "
   ]
  },
  {
   "cell_type": "code",
   "execution_count": 215,
   "metadata": {},
   "outputs": [],
   "source": [
    "def transform_into_tfidf(x_train, x_test, bigram=False):\n",
    "    if(bigram): \n",
    "        ngram_range=(1, 2) #this is includes unigram and bigram\n",
    "    else:\n",
    "        ngram_range=(1, 1) #only unigram \n",
    "    vectorizer = TfidfVectorizer(sublinear_tf=True, max_df=0.5,stop_words='english', ngram_range=ngram_range)\n",
    "    x_train_ = vectorizer.fit_transform(x_train)\n",
    "    x_test_ = vectorizer.transform(x_test)\n",
    "    feature_names = vectorizer.get_feature_names()\n",
    "    return x_train_, x_test_, feature_names\n",
    "\n",
    "def select_k_best_features(X_train, y_train, X_test, k=1000):\n",
    "    #choose k most discriminatif word between classes\n",
    "    ch2 = SelectKBest(chi2, k=k)\n",
    "    X_train_ = ch2.fit_transform(X_train, y_train)\n",
    "    X_test_ = ch2.transform(X_test)\n",
    "    selected_index = ch2.get_support(indices=True)\n",
    "    return X_train_, X_test_, selected_index\n",
    "\n",
    "def benchmark_scikitlearn_classifiers(X_train, y_train, X_test, y_test):\n",
    "    X_train = np.asarray(x_train.todense())\n",
    "    X_test = np.asarray(x_test.todense())\n",
    "    \n",
    "    models = [RidgeClassifier(tol=1e-2, solver=\"lsqr\"),RandomForestClassifier(n_estimators=50),\n",
    "        PassiveAggressiveClassifier(n_iter=50), KNeighborsClassifier(n_neighbors=1), GradientBoostingClassifier()]\n",
    "    \n",
    "    models_name = ['Ridge Classifier', 'Random Forest', 'Passive Aggressive Classifier', 'k Nearest Neighbour', 'Gradient Boosting Classifier']\n",
    "    for i,model in enumerate(models):\n",
    "        model.fit(X_train, y_train)\n",
    "        predicted = model.predict(X_test)\n",
    "        print(models_name[i]+' accuracy:', accuracy_score(y_test, predicted))\n",
    "        print(classification_report(y_test, predicted))\n",
    "\n",
    "def mlp_tensorflow_classifiers(X_train, y_train, X_test, y_test):\n",
    "    X_train_ = np.asarray(X_train.todense())\n",
    "    X_test_ = np.asarray(X_test.todense())\n",
    "    \n",
    "    #one layer neural network\n",
    "    model = Sequential()\n",
    "    model.add(Dense(128, input_dim=X_train_.shape[1], activation='relu'))\n",
    "    model.add(Dropout(0.5))\n",
    "    model.add(Dense(64, activation='relu'))\n",
    "    model.add(Dropout(0.5))\n",
    "    model.add(Dense(1, activation='sigmoid'))\n",
    "    model.compile(optimizer='rmsprop', loss='binary_crossentropy',metrics=['accuracy'])\n",
    "    \n",
    "    model.fit(X_train_, y_train, epochs=10, batch_size=32)\n",
    "    \n",
    "    score = model.evaluate(X_test_, y_test, batch_size=32)\n",
    "    print(score)"
   ]
  },
  {
   "cell_type": "markdown",
   "metadata": {},
   "source": [
    "## Load data & labels, then split into training and testing set"
   ]
  },
  {
   "cell_type": "code",
   "execution_count": 203,
   "metadata": {},
   "outputs": [],
   "source": [
    "file_name='./data/sentiment labelled sentences/amazon_cells_labelled.txt'\n",
    "data = []\n",
    "labels = []\n",
    "#0:negative, 1:positive\n",
    "\n",
    "with open(file_name) as f:\n",
    "    for l in f.readlines():\n",
    "        if len(l.strip())>0:\n",
    "            l = l.rstrip('\\n')\n",
    "            ls = l.split('\\t')\n",
    "            labels.append(int(ls[1].strip()))\n",
    "            str_ = re.sub(\"[',\\/;:`!\\\". \\d+]\",' ',\"\".join(ls[0])).strip()\n",
    "            data.append(str_)\n",
    "\n",
    "#split data string and the labels\n",
    "X_train_str, X_test_str, y_train, y_test = train_test_split(data, labels, test_size=0.1, random_state=123)"
   ]
  },
  {
   "cell_type": "markdown",
   "metadata": {},
   "source": [
    "## Case 1: unigram feature"
   ]
  },
  {
   "cell_type": "markdown",
   "metadata": {},
   "source": [
    "### Transform into Tf-idf and select k most discriminatif features"
   ]
  },
  {
   "cell_type": "code",
   "execution_count": 210,
   "metadata": {},
   "outputs": [],
   "source": [
    "x_train, x_test, feature_names = transform_into_tfidf(X_train_str, X_test_str)\n",
    "x_train_sel, x_test_sel, selected_index = select_k_best_features(x_train, y_train, x_test)"
   ]
  },
  {
   "cell_type": "markdown",
   "metadata": {},
   "source": [
    "### Benchmarking using scikit-learn classifiers"
   ]
  },
  {
   "cell_type": "code",
   "execution_count": 216,
   "metadata": {},
   "outputs": [
    {
     "name": "stdout",
     "output_type": "stream",
     "text": [
      "Ridge Classifier accuracy: 0.81\n",
      "             precision    recall  f1-score   support\n",
      "\n",
      "          0       0.81      0.83      0.82        52\n",
      "          1       0.81      0.79      0.80        48\n",
      "\n",
      "avg / total       0.81      0.81      0.81       100\n",
      "\n",
      "Random Forest accuracy: 0.82\n",
      "             precision    recall  f1-score   support\n",
      "\n",
      "          0       0.79      0.88      0.84        52\n",
      "          1       0.86      0.75      0.80        48\n",
      "\n",
      "avg / total       0.82      0.82      0.82       100\n",
      "\n",
      "Passive Aggressive Classifier accuracy: 0.8\n",
      "             precision    recall  f1-score   support\n",
      "\n",
      "          0       0.82      0.79      0.80        52\n",
      "          1       0.78      0.81      0.80        48\n",
      "\n",
      "avg / total       0.80      0.80      0.80       100\n",
      "\n",
      "k Nearest Neighbour accuracy: 0.74\n",
      "             precision    recall  f1-score   support\n",
      "\n",
      "          0       0.78      0.69      0.73        52\n",
      "          1       0.70      0.79      0.75        48\n",
      "\n",
      "avg / total       0.74      0.74      0.74       100\n",
      "\n",
      "Gradient Boosting Classifier accuracy: 0.82\n",
      "             precision    recall  f1-score   support\n",
      "\n",
      "          0       0.75      0.98      0.85        52\n",
      "          1       0.97      0.65      0.78        48\n",
      "\n",
      "avg / total       0.85      0.82      0.81       100\n",
      "\n"
     ]
    }
   ],
   "source": [
    "benchmark_scikitlearn_classifiers(x_train_sel, y_train, x_test_sel, y_test)"
   ]
  },
  {
   "cell_type": "markdown",
   "metadata": {},
   "source": [
    "### Classification using MLP tensorflow"
   ]
  },
  {
   "cell_type": "code",
   "execution_count": 218,
   "metadata": {},
   "outputs": [
    {
     "name": "stdout",
     "output_type": "stream",
     "text": [
      "Epoch 1/10\n",
      "900/900 [==============================] - 2s 3ms/step - loss: 0.6909 - acc: 0.5344\n",
      "Epoch 2/10\n",
      "900/900 [==============================] - 0s 270us/step - loss: 0.6790 - acc: 0.6189\n",
      "Epoch 3/10\n",
      "900/900 [==============================] - 0s 267us/step - loss: 0.6472 - acc: 0.7222\n",
      "Epoch 4/10\n",
      "900/900 [==============================] - 0s 270us/step - loss: 0.5822 - acc: 0.8078\n",
      "Epoch 5/10\n",
      "900/900 [==============================] - 0s 267us/step - loss: 0.4904 - acc: 0.8433\n",
      "Epoch 6/10\n",
      "900/900 [==============================] - 0s 270us/step - loss: 0.4037 - acc: 0.8589\n",
      "Epoch 7/10\n",
      "900/900 [==============================] - 0s 299us/step - loss: 0.3326 - acc: 0.8878\n",
      "Epoch 8/10\n",
      "900/900 [==============================] - 0s 254us/step - loss: 0.2756 - acc: 0.9067\n",
      "Epoch 9/10\n",
      "900/900 [==============================] - 0s 270us/step - loss: 0.2228 - acc: 0.9322\n",
      "Epoch 10/10\n",
      "900/900 [==============================] - 0s 340us/step - loss: 0.1909 - acc: 0.9400\n",
      "100/100 [==============================] - 1s 6ms/step\n",
      "[0.34486423969268798, 0.82999999999999996]\n"
     ]
    }
   ],
   "source": [
    "mlp_tensorflow_classifiers(x_train_sel, y_train, x_test_sel, y_test)"
   ]
  },
  {
   "cell_type": "markdown",
   "metadata": {},
   "source": [
    "## Case 2 : Unigram and Bigram features"
   ]
  },
  {
   "cell_type": "markdown",
   "metadata": {},
   "source": [
    "### Transform into Tf-idf and select k most discriminatif features\n",
    "    "
   ]
  },
  {
   "cell_type": "code",
   "execution_count": 219,
   "metadata": {},
   "outputs": [],
   "source": [
    "x_train, x_test, feature_names = transform_into_tfidf(X_train_str, X_test_str, True)\n",
    "x_train_sel, x_test_sel, selected_index = select_k_best_features(x_train, y_train, x_test)"
   ]
  },
  {
   "cell_type": "markdown",
   "metadata": {},
   "source": [
    "### Benchmarking using scikit-learn classifiers"
   ]
  },
  {
   "cell_type": "code",
   "execution_count": 220,
   "metadata": {},
   "outputs": [
    {
     "name": "stdout",
     "output_type": "stream",
     "text": [
      "Ridge Classifier accuracy: 0.86\n",
      "             precision    recall  f1-score   support\n",
      "\n",
      "          0       0.85      0.88      0.87        52\n",
      "          1       0.87      0.83      0.85        48\n",
      "\n",
      "avg / total       0.86      0.86      0.86       100\n",
      "\n",
      "Random Forest accuracy: 0.85\n",
      "             precision    recall  f1-score   support\n",
      "\n",
      "          0       0.80      0.94      0.87        52\n",
      "          1       0.92      0.75      0.83        48\n",
      "\n",
      "avg / total       0.86      0.85      0.85       100\n",
      "\n",
      "Passive Aggressive Classifier accuracy: 0.79\n",
      "             precision    recall  f1-score   support\n",
      "\n",
      "          0       0.83      0.75      0.79        52\n",
      "          1       0.75      0.83      0.79        48\n",
      "\n",
      "avg / total       0.79      0.79      0.79       100\n",
      "\n",
      "k Nearest Neighbour accuracy: 0.72\n",
      "             precision    recall  f1-score   support\n",
      "\n",
      "          0       0.73      0.73      0.73        52\n",
      "          1       0.71      0.71      0.71        48\n",
      "\n",
      "avg / total       0.72      0.72      0.72       100\n",
      "\n",
      "Gradient Boosting Classifier accuracy: 0.82\n",
      "             precision    recall  f1-score   support\n",
      "\n",
      "          0       0.76      0.96      0.85        52\n",
      "          1       0.94      0.67      0.78        48\n",
      "\n",
      "avg / total       0.85      0.82      0.82       100\n",
      "\n"
     ]
    }
   ],
   "source": [
    "benchmark_scikitlearn_classifiers(x_train_sel, y_train, x_test_sel, y_test)"
   ]
  },
  {
   "cell_type": "markdown",
   "metadata": {},
   "source": [
    "### Classification using MLP tensorflow"
   ]
  },
  {
   "cell_type": "code",
   "execution_count": 223,
   "metadata": {},
   "outputs": [
    {
     "name": "stdout",
     "output_type": "stream",
     "text": [
      "Epoch 1/10\n",
      "900/900 [==============================] - 1s 1ms/step - loss: 0.6914 - acc: 0.5244\n",
      "Epoch 2/10\n",
      "900/900 [==============================] - 0s 282us/step - loss: 0.6803 - acc: 0.6311\n",
      "Epoch 3/10\n",
      "900/900 [==============================] - 0s 259us/step - loss: 0.6566 - acc: 0.7278\n",
      "Epoch 4/10\n",
      "900/900 [==============================] - 0s 243us/step - loss: 0.6113 - acc: 0.7778\n",
      "Epoch 5/10\n",
      "900/900 [==============================] - 0s 241us/step - loss: 0.5371 - acc: 0.8300\n",
      "Epoch 6/10\n",
      "900/900 [==============================] - 0s 258us/step - loss: 0.4472 - acc: 0.8567\n",
      "Epoch 7/10\n",
      "900/900 [==============================] - 0s 261us/step - loss: 0.3660 - acc: 0.8856\n",
      "Epoch 8/10\n",
      "900/900 [==============================] - 0s 277us/step - loss: 0.3080 - acc: 0.8989\n",
      "Epoch 9/10\n",
      "900/900 [==============================] - 0s 370us/step - loss: 0.2584 - acc: 0.9122\n",
      "Epoch 10/10\n",
      "900/900 [==============================] - 0s 259us/step - loss: 0.2217 - acc: 0.9222\n",
      "100/100 [==============================] - 0s 4ms/step\n",
      "[0.38277961254119874, 0.80000000000000004]\n"
     ]
    }
   ],
   "source": [
    "mlp_tensorflow_classifiers(x_train_sel, y_train, x_test_sel, y_test)"
   ]
  },
  {
   "cell_type": "markdown",
   "metadata": {},
   "source": [
    "## Visualisation"
   ]
  },
  {
   "cell_type": "markdown",
   "metadata": {},
   "source": [
    "In this visualisation, in order to be read easily, fifteen only features will be selected. Each negative and positive samples are chosen to be visualised."
   ]
  },
  {
   "cell_type": "code",
   "execution_count": 226,
   "metadata": {},
   "outputs": [],
   "source": [
    "index_neg=[2,10,13,21,66] #sample index for negative sentiment\n",
    "index_pos = [4,35,43,63,76] #sample index for positive sentiment\n",
    "x_train, x_test, feature_names = transform_into_tfidf(X_train_str, X_test_str, True)\n",
    "x_train_sel, x_test_sel, selected_index = select_k_best_features(x_train, y_train, x_test, k=15)"
   ]
  },
  {
   "cell_type": "code",
   "execution_count": 227,
   "metadata": {},
   "outputs": [
    {
     "name": "stdout",
     "output_type": "stream",
     "text": [
      "['bad', 'disappointed', 'excellent', 'good', 'great', 'great phone', 'love', 'money', 'nice', 'poor', 'price', 'waste', 'works', 'works great', 'worst']\n"
     ]
    }
   ],
   "source": [
    "selected_word = [feature_names[i] for i in selected_index]\n",
    "print(selected_word)"
   ]
  },
  {
   "cell_type": "code",
   "execution_count": 228,
   "metadata": {},
   "outputs": [],
   "source": [
    "#choose the negative and positive samples that will be visualised\n",
    "vis_pos=np.ndarray(shape=(5,15))\n",
    "vis_neg=np.ndarray(shape=(5,15))\n",
    "vis_sample = np.ndarray(shape=(10,15))\n",
    "\n",
    "for i,d in enumerate(index_neg):\n",
    "    vis_sample[i]=x_train_sel[d].todense()\n",
    "    \n",
    "for i,d in enumerate(index_pos):\n",
    "    vis_sample[(5+i)]=x_train_sel[d].todense()\n"
   ]
  },
  {
   "cell_type": "markdown",
   "metadata": {},
   "source": [
    "### Plot the heatmap of positive and negative samples according to the selected words"
   ]
  },
  {
   "cell_type": "code",
   "execution_count": 229,
   "metadata": {},
   "outputs": [
    {
     "data": {
      "image/png": "[encoded data removed]",
      "text/plain": [
       "<matplotlib.figure.Figure at 0x7f2129dd0a90>"
      ]
     },
     "metadata": {},
     "output_type": "display_data"
    }
   ],
   "source": [
    "class_names = selected_word\n",
    "plt.figure(figsize=(11,8))\n",
    "plt.imshow(vis_sample, cmap=plt.cm.Blues, interpolation='nearest')\n",
    "tick_marks_x = np.arange(len(class_names))\n",
    "plt.xticks(tick_marks_x, class_names, rotation=90)\n",
    "label_y = ['neg','neg','neg','neg','neg','pos','pos','pos','pos','pos']\n",
    "tick_marks_y =np.arange(len(label_y))\n",
    "plt.yticks(tick_marks_y, label_y)\n",
    "cax = plt.axes([1, 0.1, 0.05, 0.65])\n",
    "plt.colorbar(cax=cax)\n",
    "plt.show()"
   ]
  },
  {
   "cell_type": "markdown",
   "metadata": {},
   "source": [
    "### Notes:"
   ]
  },
  {
   "cell_type": "markdown",
   "metadata": {},
   "source": [
    "1. The fifteen most discriminatif features are : 'bad', 'disappointed', 'excellent', 'good', 'great', 'great phone', 'love', 'money', 'nice', 'poor', 'price', 'waste', 'works', 'works great', 'worst'.\n",
    "\n",
    "2. According to random negative samples, the negative sentiment reviews have high tf-idf value for : 'money' and 'waste'. Possibly, the review is negative because of the cell phone is too expensive\n",
    "\n",
    "3. According to random positive samples, the positive sentiment reviews have high tf-idf value for : 'excellent', 'good', 'great', 'great phone', 'price', 'works', 'works great'. The possible guess is consumer happy with the function of the cell phone (it works great) and the price is worthy (form the word 'price')\n",
    "\n",
    "4. Compare to unigram only, the classifiers perform better when using unigram and bigram features.\n",
    "\n",
    "6. According to the classifier benchmarking, when using unigram (one word) as feature, tensorflow MLP achieve the highest accuracy, around 83%\n",
    "\n",
    "7. When using bigram feature (one to two words), Ridge Classifier perform the highest accuracy (around 86%) compare to other examined scikit-learn clssifiers. In this scenario, accuracy of tensorflow MLP lower than Ridge Classifier. The possible justification is because the model tend to overfit. However, this problem might be tackled by parameter tuning.\n"
   ]
  }
 ],
 "metadata": {
  "kernelspec": {
   "display_name": "Python 3",
   "language": "python",
   "name": "python3"
  },
  "language_info": {
   "codemirror_mode": {
    "name": "ipython",
    "version": 3
   },
   "file_extension": ".py",
   "mimetype": "text/x-python",
   "name": "python",
   "nbconvert_exporter": "python",
   "pygments_lexer": "ipython3",
   "version": "3.6.3"
  }
 },
 "nbformat": 4,
 "nbformat_minor": 2
}
